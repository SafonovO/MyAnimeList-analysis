{
 "cells": [
  {
   "cell_type": "markdown",
   "id": "f3e3d3266e7e61f9",
   "metadata": {},
   "source": [
    "# This notebook aims to test hypotheses of interest for deeper analysis"
   ]
  },
  {
   "cell_type": "code",
   "execution_count": 1,
   "id": "1bbafe48ca24f2f0",
   "metadata": {
    "ExecuteTime": {
     "end_time": "2024-08-02T08:04:00.035859Z",
     "start_time": "2024-08-02T08:04:00.031559Z"
    }
   },
   "outputs": [],
   "source": [
    "import numpy as np\n",
    "import pandas as pd\n",
    "import matplotlib.pyplot as plt\n",
    "import scipy.stats as stats\n",
    "from matplotlib import colors as mcolors\n",
    "import seaborn\n",
    "seaborn.set()"
   ]
  },
  {
   "cell_type": "markdown",
   "id": "eff37cae538d2b33",
   "metadata": {},
   "source": [
    "Reading data"
   ]
  },
  {
   "cell_type": "code",
   "execution_count": 2,
   "id": "a8feba7c159fe91a",
   "metadata": {
    "ExecuteTime": {
     "end_time": "2024-08-02T08:04:18.739433Z",
     "start_time": "2024-08-02T08:04:00.077577Z"
    }
   },
   "outputs": [],
   "source": [
    "users = pd.read_csv('Data/userlist_filt.csv')\n",
    "userlists = pd.read_csv('Data/userAnimeList_filt.csv')"
   ]
  },
  {
   "cell_type": "code",
   "execution_count": 3,
   "id": "b2ad82497a39cc88",
   "metadata": {
    "ExecuteTime": {
     "end_time": "2024-08-02T08:04:18.821500Z",
     "start_time": "2024-08-02T08:04:18.740438Z"
    }
   },
   "outputs": [],
   "source": [
    "animes = pd.read_csv('Data/animelist_filt.csv')"
   ]
  },
  {
   "cell_type": "markdown",
   "id": "fd252a2813388b4e",
   "metadata": {},
   "source": [
    "# The first hypothesis we are going to test: Do female users watch more romance shows?\n",
    "H0: mean(male) >= mean(female);\n",
    "H1: mean(male) < mean(female)"
   ]
  },
  {
   "cell_type": "code",
   "execution_count": 4,
   "id": "712e573acb15e810",
   "metadata": {
    "ExecuteTime": {
     "end_time": "2024-08-02T08:04:29.021649Z",
     "start_time": "2024-08-02T08:04:18.822507Z"
    }
   },
   "outputs": [],
   "source": [
    "userlists = pd.merge(\n",
    "    pd.merge(userlists,users[['username','gender','stats_episodes']], on='username',how='left'),\n",
    "    animes[['anime_id','genre_Romance']], on='anime_id',how='left'\n",
    ")\n",
    "ratings_by_gender = userlists.groupby(['username','gender']).agg(count=('username','count'))\n",
    "ratings_by_gender = ratings_by_gender.groupby('gender').agg(mean=('count','mean'))"
   ]
  },
  {
   "cell_type": "markdown",
   "id": "3698d517dcfe8330",
   "metadata": {},
   "source": [
    "Counting the amount of romance shows watched and adjusting by the mean"
   ]
  },
  {
   "cell_type": "code",
   "execution_count": 5,
   "id": "ab5d271d62d12184",
   "metadata": {
    "ExecuteTime": {
     "end_time": "2024-08-02T08:04:31.077084Z",
     "start_time": "2024-08-02T08:04:29.022655Z"
    }
   },
   "outputs": [],
   "source": [
    "counts = userlists.groupby(['username']).agg({'genre_Romance':'sum','stats_episodes': 'first','gender':'first'})\n",
    "counts = counts[counts['stats_episodes'] != 0]\n",
    "counts = pd.merge(counts, ratings_by_gender, on='gender')\n",
    "counts['Romance'] = counts['genre_Romance'] / counts['mean']"
   ]
  },
  {
   "cell_type": "markdown",
   "id": "eb5fc3180c789cd",
   "metadata": {},
   "source": [
    "Plotting"
   ]
  },
  {
   "cell_type": "code",
   "execution_count": 6,
   "id": "ce059bc3e8135ec2",
   "metadata": {
    "ExecuteTime": {
     "end_time": "2024-08-02T08:04:31.724212Z",
     "start_time": "2024-08-02T08:04:31.078089Z"
    }
   },
   "outputs": [
    {
     "data": {
      "image/png": "[encoded data removed]",
      "text/plain": [
       "<Figure size 1440x360 with 3 Axes>"
      ]
     },
     "metadata": {
      "needs_background": "light"
     },
     "output_type": "display_data"
    }
   ],
   "source": [
    "fig, (ax1,ax2,ax3) = plt.subplots(1,3,figsize=(20,5), sharey='row')\n",
    "ax1.hist(counts[counts['gender'] == 'Male'].Romance, bins=50,color='blue',edgecolor='black',)\n",
    "ax1.hist(counts[counts['gender'] == 'Female'].Romance, bins=50,color='red',edgecolor='black',)\n",
    "ax1.set_title(\"Male/Female counts for romance anime watched (adjusted by the mean count for respective gender)\")\n",
    "ax1.set_xlabel('Count')\n",
    "ax1.set_ylabel('Adjusted shows watched')\n",
    "\n",
    "counts['Romance_log'] = np.log(counts['Romance']+0.1)\n",
    "ax2.hist(counts[counts['gender'] == 'Male'].Romance_log, bins=50,color='blue',edgecolor='black',)\n",
    "ax2.hist(counts[counts['gender'] == 'Female'].Romance_log, bins=50,color='red',edgecolor='black',)\n",
    "ax2.set_title(\"Male/Female counts after log transformation\")\n",
    "ax2.set_xlabel('Count')\n",
    "\n",
    "counts['Romance_sqrt'] = np.sqrt(counts['Romance'])\n",
    "ax3.hist(counts[counts['gender'] == 'Male'].Romance_sqrt, bins=50,color='blue',edgecolor='black',)\n",
    "ax3.hist(counts[counts['gender'] == 'Female'].Romance_sqrt, bins=50,color='red',edgecolor='black',)\n",
    "ax3.set_title(\"Male/Female counts after sqrt transformation\")\n",
    "ax3.set_xlabel('Count')\n",
    "\n",
    "plt.tight_layout()\n",
    "plt.show()"
   ]
  },
  {
   "cell_type": "markdown",
   "id": "6b9daa21bbe23a96",
   "metadata": {},
   "source": [
    "As we can see, in order to test the hypothesis, we need to transform the data. Square root transformation seems to do well"
   ]
  },
  {
   "cell_type": "code",
   "execution_count": 7,
   "id": "71e7177122262b22",
   "metadata": {
    "ExecuteTime": {
     "end_time": "2024-08-02T08:04:31.754717Z",
     "start_time": "2024-08-02T08:04:31.725223Z"
    }
   },
   "outputs": [
    {
     "name": "stdout",
     "output_type": "stream",
     "text": [
      "T-test p-value: 2.151425036825301e-07\n",
      "T-statistic: -5.1865368700173615\n",
      "Mann-whitney P-value: 9.856001275620036e-06\n"
     ]
    }
   ],
   "source": [
    "statistic, p_value = stats.ttest_ind(counts[counts['gender'] == 'Male'].Romance_sqrt,counts[counts['gender'] == 'Female'].Romance_sqrt, equal_var=False)\n",
    "\n",
    "print(f'T-test p-value: {p_value}')\n",
    "print(f'T-statistic: {statistic}')\n",
    "u_statistic, p_value = stats.mannwhitneyu(counts[counts['gender'] == 'Male'].Romance_sqrt, counts[counts['gender'] == 'Female'].Romance_sqrt, alternative='two-sided')\n",
    "print(f'Mann-whitney P-value: {p_value}')"
   ]
  },
  {
   "cell_type": "markdown",
   "id": "e3a440746f59a1dc",
   "metadata": {},
   "source": [
    "With these results, we can conclude that there is a significant difference between the amount of romance shows watched by male and female users with the negative t-statistic indicating that female users have a higher mean"
   ]
  },
  {
   "cell_type": "markdown",
   "id": "99fa824e71c1f738",
   "metadata": {},
   "source": [
    "# The second hypothesis from the data exploration notebook: Is there a relationship between having zero mean rating and having no episodes watched?\n",
    "This could be the case for some users to intentionally disrupt ratings by creating throwaway accounts."
   ]
  },
  {
   "cell_type": "code",
   "execution_count": 8,
   "id": "a4d3942dc1f96548",
   "metadata": {
    "ExecuteTime": {
     "end_time": "2024-08-02T08:04:31.762619Z",
     "start_time": "2024-08-02T08:04:31.755722Z"
    }
   },
   "outputs": [],
   "source": [
    "zerolists = users[['username','stats_episodes','stats_mean_score']]\n",
    "zerolists = zerolists[zerolists['stats_mean_score'] == 0]\n",
    "zerolists_zero_episodes = zerolists[zerolists['stats_episodes'] == 0]"
   ]
  },
  {
   "cell_type": "code",
   "execution_count": 9,
   "id": "a5a51d89a28b3534",
   "metadata": {
    "ExecuteTime": {
     "end_time": "2024-08-02T08:04:31.769408Z",
     "start_time": "2024-08-02T08:04:31.763629Z"
    }
   },
   "outputs": [
    {
     "data": {
      "text/html": [
       "<div>\n",
       "<style scoped>\n",
       "    .dataframe tbody tr th:only-of-type {\n",
       "        vertical-align: middle;\n",
       "    }\n",
       "\n",
       "    .dataframe tbody tr th {\n",
       "        vertical-align: top;\n",
       "    }\n",
       "\n",
       "    .dataframe thead th {\n",
       "        text-align: right;\n",
       "    }\n",
       "</style>\n",
       "<table border=\"1\" class=\"dataframe\">\n",
       "  <thead>\n",
       "    <tr style=\"text-align: right;\">\n",
       "      <th></th>\n",
       "      <th>Zero Episodes</th>\n",
       "      <th>Non-Zero Episodes</th>\n",
       "    </tr>\n",
       "  </thead>\n",
       "  <tbody>\n",
       "    <tr>\n",
       "      <th>Zero Mean Score</th>\n",
       "      <td>1704</td>\n",
       "      <td>1530</td>\n",
       "    </tr>\n",
       "    <tr>\n",
       "      <th>Other</th>\n",
       "      <td>65050</td>\n",
       "      <td>65050</td>\n",
       "    </tr>\n",
       "  </tbody>\n",
       "</table>\n",
       "</div>"
      ],
      "text/plain": [
       "                 Zero Episodes  Non-Zero Episodes\n",
       "Zero Mean Score           1704               1530\n",
       "Other                    65050              65050"
      ]
     },
     "execution_count": 9,
     "metadata": {},
     "output_type": "execute_result"
    }
   ],
   "source": [
    "total_zero_mean = len(zerolists)\n",
    "zero_mean_zero_episodes = len(zerolists_zero_episodes)\n",
    "zero_mean_non_zero_episodes = total_zero_mean - zero_mean_zero_episodes\n",
    "\n",
    "contingency_table = pd.DataFrame({\n",
    "    'Zero Episodes': [zero_mean_zero_episodes, len(users) - total_zero_mean],\n",
    "    'Non-Zero Episodes': [zero_mean_non_zero_episodes, len(users) - len(zerolists)]\n",
    "}, index=['Zero Mean Score', 'Other'])\n",
    "\n",
    "contingency_table"
   ]
  },
  {
   "cell_type": "code",
   "execution_count": 10,
   "id": "1d374e06f70c005f",
   "metadata": {
    "ExecuteTime": {
     "end_time": "2024-08-02T08:04:31.774153Z",
     "start_time": "2024-08-02T08:04:31.770414Z"
    }
   },
   "outputs": [
    {
     "name": "stdout",
     "output_type": "stream",
     "text": [
      "Chi-squared Statistic: 9.02743780716443\n",
      "P-value: 0.002659569997732597\n"
     ]
    }
   ],
   "source": [
    "chi2, p_value, _, _ = stats.chi2_contingency(contingency_table)\n",
    "print(f'Chi-squared Statistic: {chi2}')\n",
    "print(f'P-value: {p_value}')"
   ]
  },
  {
   "cell_type": "markdown",
   "id": "9e081ffe6bd4baa4",
   "metadata": {},
   "source": [
    "The p-value indicates that there is a very significant relationship between having zero episodes watched and having zero mean rating, this fits into our initial guess about fake accounts. Further investigation seems impossible without having more data."
   ]
  },
  {
   "cell_type": "markdown",
   "id": "79a4c1d3d9d42bb4",
   "metadata": {},
   "source": [
    "# Third test: Is there a trend of ratings increasing for newer shows? "
   ]
  },
  {
   "cell_type": "code",
   "execution_count": 11,
   "id": "eb45776c73400d0a",
   "metadata": {
    "ExecuteTime": {
     "end_time": "2024-08-02T08:04:32.259622Z",
     "start_time": "2024-08-02T08:04:31.775160Z"
    }
   },
   "outputs": [
    {
     "data": {
      "image/png": "[encoded data removed]",
      "text/plain": [
       "<Figure size 720x360 with 1 Axes>"
      ]
     },
     "metadata": {
      "needs_background": "light"
     },
     "output_type": "display_data"
    }
   ],
   "source": [
    "animes['release_year'] = animes['premiered'].str.extract(r'(\\d{4})')\n",
    "animes['release_year'] = pd.to_numeric(animes['release_year'], errors='coerce')\n",
    "animes = animes.dropna(subset=['release_year'])\n",
    "animes = animes[animes['release_year'] != 2019]\n",
    "animes = animes[animes['score'] != 0]\n",
    "average_ratings = animes.groupby('release_year').agg(mean=('score','mean')).reset_index()\n",
    "plt.figure(figsize=(10, 5))\n",
    "seaborn.lineplot(data=average_ratings, x='release_year', y='mean',color='Red')\n",
    "plt.title('Average anime ratings by release year')\n",
    "plt.xlabel('Release year')\n",
    "plt.ylabel('Average rating')\n",
    "plt.grid(True)\n",
    "plt.show()"
   ]
  },
  {
   "cell_type": "code",
   "execution_count": 12,
   "id": "ab01d0b5afa0e9d7",
   "metadata": {
    "ExecuteTime": {
     "end_time": "2024-08-02T08:04:32.265167Z",
     "start_time": "2024-08-02T08:04:32.260629Z"
    }
   },
   "outputs": [
    {
     "name": "stdout",
     "output_type": "stream",
     "text": [
      "Correlation coefficient: 0.5907558971412697\n"
     ]
    }
   ],
   "source": [
    "correlation = average_ratings['release_year'].corr(average_ratings['mean'])\n",
    "print(f'Correlation coefficient: {correlation}')"
   ]
  },
  {
   "cell_type": "markdown",
   "id": "6f33dcc50f227c62",
   "metadata": {},
   "source": [
    "With this correlation coefficient, we can conclude that there is a moderate positive correlation between the release year and the rating shows usually get"
   ]
  },
  {
   "cell_type": "code",
   "execution_count": null,
   "id": "009dc58d",
   "metadata": {},
   "outputs": [],
   "source": [
    "# Fourth Test: Is there a genuine difference in score user score based on what was the original source material?\n"
   ]
  },
  {
   "cell_type": "code",
   "execution_count": 35,
   "id": "d15e07e3",
   "metadata": {},
   "outputs": [],
   "source": [
    "\n",
    "sources = animes['source'].unique()\n",
    "grouped_ratings = [animes[animes['source'] == source]['score'] for source in sources]\n",
    "\n"
   ]
  },
  {
   "cell_type": "code",
   "execution_count": 36,
   "id": "61d5cccd",
   "metadata": {},
   "outputs": [],
   "source": [
    "f_stat, p_value = stats.f_oneway(*grouped_ratings)\n"
   ]
  },
  {
   "cell_type": "code",
   "execution_count": 37,
   "id": "08398fb4",
   "metadata": {},
   "outputs": [
    {
     "name": "stdout",
     "output_type": "stream",
     "text": [
      "F-statistic: 43.4588561518919\n",
      "P-value: 3.178720854750996e-119\n"
     ]
    }
   ],
   "source": [
    "print(f\"F-statistic: {f_stat}\")\n",
    "print(f\"P-value: {p_value}\")"
   ]
  },
  {
   "cell_type": "code",
   "execution_count": 38,
   "id": "e8b6d8cf",
   "metadata": {},
   "outputs": [],
   "source": [
    "from statsmodels.stats.multicomp import pairwise_tukeyhsd\n"
   ]
  },
  {
   "cell_type": "code",
   "execution_count": 39,
   "id": "24047b12",
   "metadata": {},
   "outputs": [],
   "source": [
    "tukey = pairwise_tukeyhsd(endog=animes['score'], groups=animes['source'], alpha=0.05)\n"
   ]
  },
  {
   "cell_type": "code",
   "execution_count": 40,
   "id": "09214dff",
   "metadata": {},
   "outputs": [
    {
     "name": "stdout",
     "output_type": "stream",
     "text": [
      "T-statistic: -268.55519315953967\n",
      "P-value: 3.178720854750996e-119\n"
     ]
    }
   ],
   "source": [
    "print(f\"T-statistic: {t_stat}\")\n",
    "print(f\"P-value: {p_value}\")"
   ]
  },
  {
   "cell_type": "code",
   "execution_count": 41,
   "id": "8eee1966",
   "metadata": {},
   "outputs": [
    {
     "name": "stdout",
     "output_type": "stream",
     "text": [
      "              Multiple Comparison of Means - Tukey HSD, FWER=0.05               \n",
      "================================================================================\n",
      "    group1        group2      meandiff   p-adj     lower        upper     reject\n",
      "--------------------------------------------------------------------------------\n",
      " 4-koma manga          Book  -54391.6868 0.6698 -137704.0935   28920.7199  False\n",
      " 4-koma manga     Card game  -44203.8963 0.8612 -122645.8373   34238.0447  False\n",
      " 4-koma manga Digital manga  -41476.5201    1.0 -211770.0588  128817.0185  False\n",
      " 4-koma manga          Game  -31437.9096  0.667  -79510.1531   16634.3339  False\n",
      " 4-koma manga   Light novel  120456.2046    0.0   75225.0539  165687.3553   True\n",
      " 4-koma manga         Manga   25038.4633 0.7172  -14485.7892   64562.7159  False\n",
      " 4-koma manga         Music  -30245.0807    1.0 -158566.5719   98076.4105  False\n",
      " 4-koma manga         Novel    7948.5793    1.0  -45122.0613     61019.22  False\n",
      " 4-koma manga      Original  -24528.5658 0.7678  -64643.8387    15586.707  False\n",
      " 4-koma manga         Other  -44449.1782 0.3159 -100411.7693   11513.4129  False\n",
      " 4-koma manga  Picture book  -64304.2582 0.1651 -137552.5968    8944.0803  False\n",
      " 4-koma manga         Radio  -62873.3534 0.9997 -269722.8686  143976.1617  False\n",
      " 4-koma manga       Unknown  -64185.3766    0.0 -104671.7709  -23698.9824   True\n",
      " 4-koma manga  Visual novel   27413.2266 0.8901  -22877.6342   77704.0873  False\n",
      " 4-koma manga     Web manga   22365.6296 0.9986  -42675.3238    87406.583  False\n",
      "         Book     Card game   10187.7905    1.0  -91013.2327  111388.8136  False\n",
      "         Book Digital manga   12915.1667    1.0 -168987.0001  194817.3335  False\n",
      "         Book          Game   22953.7772 0.9998  -57042.7826   102950.337  False\n",
      "         Book   Light novel  174847.8914    0.0    96525.698  253170.0848   True\n",
      "         Book         Manga   79430.1501 0.0262    4259.1748  154601.1254   True\n",
      "         Book         Music   24146.6061    1.0 -119223.2446  167516.4568  False\n",
      "         Book         Novel   62340.2661 0.4187  -20756.0749  145436.6071  False\n",
      "         Book      Original   29863.1209 0.9937  -45620.2819  105346.5238  False\n",
      "         Book         Other    9942.5086    1.0   -75029.961   94914.9782  False\n",
      "         Book  Picture book   -9912.5714    1.0 -107143.3694   87318.2266  False\n",
      "         Book         Radio   -8481.6667    1.0 -224988.5509  208025.2175  False\n",
      "         Book       Unknown   -9793.6898    1.0  -85474.9762   65887.5965  False\n",
      "         Book  Visual novel   81804.9133  0.047     455.7913  163154.0354   True\n",
      "         Book     Web manga   76757.3164 0.2228  -14450.3291  167964.9619  False\n",
      "    Card game Digital manga    2727.3762    1.0  -176996.243  182450.9954  False\n",
      "    Card game          Game   12765.9867    1.0  -62144.8308   87676.8042  False\n",
      "    Card game   Light novel  164660.1009    0.0    91540.015  237780.1869   True\n",
      "    Card game         Manga   69242.3596  0.054    -491.8251  138976.5443  False\n",
      "    Card game         Music   13958.8156    1.0 -126636.6861  154554.3172  False\n",
      "    Card game         Novel   52152.4756 0.6343  -26059.9459  130364.8971  False\n",
      "    Card game      Original   19675.3305 0.9999  -50395.5272   89746.1881  False\n",
      "    Card game         Other    -245.2819    1.0  -80448.1595   79957.5958  False\n",
      "    Card game  Picture book  -20100.3619    1.0 -113191.7636   72991.0398  False\n",
      "    Card game         Radio  -18669.4571    1.0 -233349.2464  196010.3321  False\n",
      "    Card game       Unknown  -19981.4803 0.9999  -90265.4621   50302.5015  False\n",
      "    Card game  Visual novel   71617.1229  0.095   -4736.4013   147970.647  False\n",
      "    Card game     Web manga   66569.5259 0.3778  -20211.8983  153350.9501  False\n",
      "Digital manga          Game   10038.6105    1.0 -158657.5121  178734.7331  False\n",
      "Digital manga   Light novel  161932.7247 0.0729   -5975.8759  329841.3254  False\n",
      "Digital manga         Manga   66514.9834  0.993  -99947.0474  232977.0143  False\n",
      "Digital manga         Music   11231.4394    1.0  -195199.775  217662.6538  False\n",
      "Digital manga         Novel   49425.0994 0.9998 -120762.8381   219613.037  False\n",
      "Digital manga      Original   16947.9543    1.0 -149655.3959  183551.3045  False\n",
      "Digital manga         Other   -2972.6581    1.0 -174084.4718  168139.1556  False\n",
      "Digital manga  Picture book  -22827.7381    1.0  -200346.076  154690.5998  False\n",
      "Digital manga         Radio  -21396.8333    1.0 -283949.9958  241156.3291  False\n",
      "Digital manga       Unknown  -22708.8565    1.0 -189401.9556  143984.2426  False\n",
      "Digital manga  Visual novel   68889.7467 0.9916 -100451.9548  238231.4481  False\n",
      "Digital manga     Web manga   63842.1497 0.9972 -110450.0383  238134.3377  False\n",
      "         Game   Light novel  151894.1142    0.0  113108.1701  190680.0583   True\n",
      "         Game         Manga   56476.3729    0.0   24528.6186   88424.1272   True\n",
      "         Game         Music    1192.8289    1.0 -125001.0599  127386.7177  False\n",
      "         Game         Novel   39386.4889 0.2517   -8310.3178   87083.2956  False\n",
      "         Game      Original    6909.3438    1.0  -25766.7574   39585.4449  False\n",
      "         Game         Other  -13011.2686    1.0  -63906.2985   37883.7613  False\n",
      "         Game  Picture book  -32866.3486 0.9646 -102320.0135   36587.3163  False\n",
      "         Game         Radio  -31435.4439    1.0 -236971.8503  174100.9626  False\n",
      "         Game       Unknown   -32747.467 0.0566  -65878.1263     383.1923  False\n",
      "         Game  Visual novel   58851.1361 0.0007   14267.9202  103434.3521   True\n",
      "         Game     Web manga   53803.5392  0.154   -6932.1018  114539.1802  False\n",
      "  Light novel         Manga  -95417.7413    0.0 -122905.4731  -67930.0095   True\n",
      "  Light novel         Music -150701.2853 0.0039 -275840.4637  -25562.1069   True\n",
      "  Light novel         Novel -112507.6253    0.0 -157339.5532  -67675.6973   True\n",
      "  Light novel      Original -144984.7704    0.0 -173315.7425 -116653.7984   True\n",
      "  Light novel         Other -164905.3828    0.0 -213125.9227 -116684.8429   True\n",
      "  Light novel  Picture book -184760.4628    0.0 -252278.8156   -117242.11   True\n",
      "  Light novel         Radio -183329.5581 0.1423 -388220.0917   21560.9756  False\n",
      "  Light novel       Unknown -184641.5812    0.0 -213495.6448 -155787.5177   True\n",
      "  Light novel  Visual novel  -93042.9781    0.0 -134546.9482  -51539.0079   True\n",
      "  Light novel     Web manga   -98090.575    0.0 -156603.2615  -39577.8885   True\n",
      "        Manga         Music   -55283.544  0.978 -178474.9541    67907.866  False\n",
      "        Manga         Novel   -17089.884 0.9827  -56156.6385   21976.8706  False\n",
      "        Manga      Original  -49567.0292    0.0  -67426.2992  -31707.7591   True\n",
      "        Manga         Other  -69487.6415    0.0 -112400.6933  -26574.5897   True\n",
      "        Manga  Picture book  -89342.7215 0.0002  -153178.742  -25506.7011   True\n",
      "        Manga         Radio  -87911.8168 0.9848 -291618.5676  115794.9341  False\n",
      "        Manga       Unknown  -89223.8399    0.0  -107901.809  -70545.8708   True\n",
      "        Manga  Visual novel    2374.7632    1.0   -32823.093   37572.6195  False\n",
      "        Manga     Web manga   -2672.8337    1.0  -56895.0065   51549.3391  False\n",
      "        Music         Novel     38193.66 0.9997  -89987.6564  166374.9765  False\n",
      "        Music      Original    5716.5149    1.0 -117665.7857  129098.8155  False\n",
      "        Music         Other  -14204.0975    1.0 -143609.5401  115201.3452  False\n",
      "        Music  Picture book  -34059.1775    1.0 -171824.4709  103706.1159  False\n",
      "        Music         Radio  -32628.2727    1.0 -270116.5438  204859.9984  False\n",
      "        Music       Unknown  -33940.2959 0.9999 -157443.7578    89563.166  False\n",
      "        Music  Visual novel   57658.3073 0.9757  -69397.3012  184713.9158  False\n",
      "        Music     Web manga   52610.7103  0.994  -80971.7833  186193.2039  False\n",
      "        Novel      Original  -32477.1452 0.2651  -72141.7375    7187.4472  False\n",
      "        Novel         Other  -52397.7575 0.0915 -108038.1779    3242.6628  False\n",
      "        Novel  Picture book  -72252.8375 0.0559 -145255.3298     749.6547  False\n",
      "        Novel         Radio  -70821.9328 0.9987 -277584.5181  135940.6526  False\n",
      "        Novel       Unknown  -72133.9559    0.0 -112173.8472  -32094.0647   True\n",
      "        Novel  Visual novel   19464.6472 0.9946  -30467.4611   69396.7556  False\n",
      "        Novel     Web manga   14417.0503    1.0  -50346.9087   79181.0093  False\n",
      "     Original         Other  -19920.6124 0.9733  -63378.6219   23537.3972  False\n",
      "     Original  Picture book  -39775.6924 0.7498 -103979.3222   24427.9375  False\n",
      "     Original         Radio  -38344.7876    1.0 -242167.0359  165477.4607  False\n",
      "     Original       Unknown  -39656.8108    0.0   -59554.929  -19758.6926   True\n",
      "     Original  Visual novel   51941.7924 0.0001   16081.5405   87802.0442   True\n",
      "     Original     Web manga   46894.1954 0.1952   -7760.2884  101548.6793  False\n",
      "        Other  Picture book    -19855.08 0.9999  -94986.1826   55276.0226  False\n",
      "        Other         Radio  -18424.1753    1.0 -225947.8737  189099.5232  False\n",
      "        Other       Unknown  -19736.1984 0.9772  -63537.0157   24064.6189  False\n",
      "        Other  Visual novel   71862.4047 0.0004   18866.7997  124858.0098   True\n",
      "        Other     Web manga   66814.8078 0.0528    -339.4109  133969.0265  False\n",
      " Picture book         Radio    1430.9048    1.0 -211406.1054  214267.9149  False\n",
      " Picture book       Unknown     118.8816    1.0  -64317.2813   64555.0445  False\n",
      " Picture book  Visual novel   91717.4848 0.0011   20710.1496  162724.8199   True\n",
      " Picture book     Web manga   86669.8878 0.0266    4552.9189  168786.8567   True\n",
      "        Radio       Unknown   -1312.0232    1.0 -205207.6384  202583.5921  False\n",
      "        Radio  Visual novel     90286.58 0.9825  -115780.022   296353.182  False\n",
      "        Radio     Web manga   85238.9831 0.9918 -124914.7688  295392.7349  False\n",
      "      Unknown  Visual novel   91598.6032    0.0   55323.6715  127873.5348   True\n",
      "      Unknown     Web manga   86551.0062    0.0   31623.5485  141478.4639   True\n",
      " Visual novel     Web manga   -5047.5969    1.0  -67553.9819    57458.788  False\n",
      "--------------------------------------------------------------------------------\n"
     ]
    }
   ],
   "source": [
    "print(tukey)\n"
   ]
  },
  {
   "cell_type": "code",
   "execution_count": 42,
   "id": "5d1d9bcb",
   "metadata": {},
   "outputs": [
    {
     "data": {
      "image/png": "[encoded data removed]",
      "text/plain": [
       "<Figure size 720x432 with 1 Axes>"
      ]
     },
     "metadata": {
      "needs_background": "light"
     },
     "output_type": "display_data"
    }
   ],
   "source": [
    "tukey.plot_simultaneous()\n",
    "plt.xlabel('Mean Rating Difference')\n",
    "plt.ylabel('Source')\n",
    "plt.title('Tukey HSD Test Results')\n",
    "plt.show()"
   ]
  },
  {
   "cell_type": "code",
   "execution_count": null,
   "id": "51e76b47",
   "metadata": {},
   "outputs": [],
   "source": []
  }
 ],
 "metadata": {
  "kernelspec": {
   "display_name": "Python 3 (ipykernel)",
   "language": "python",
   "name": "python3"
  },
  "language_info": {
   "codemirror_mode": {
    "name": "ipython",
    "version": 3
   },
   "file_extension": ".py",
   "mimetype": "text/x-python",
   "name": "python",
   "nbconvert_exporter": "python",
   "pygments_lexer": "ipython3",
   "version": "3.9.7"
  }
 },
 "nbformat": 4,
 "nbformat_minor": 5
}

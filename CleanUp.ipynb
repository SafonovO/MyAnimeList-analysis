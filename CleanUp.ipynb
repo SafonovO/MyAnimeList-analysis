{
 "cells": [
  {
   "cell_type": "markdown",
   "id": "43ab94d5a2332488",
   "metadata": {},
   "source": [
    "# This file is intended for data preprocessing and filtering\n",
    "\n",
    "We suggest you don't run this code unless you want to reproduce the whole dataset"
   ]
  },
  {
   "cell_type": "code",
   "execution_count": 1,
   "id": "a2ca812d-4c52-49d2-9975-01c457f4ee89",
   "metadata": {
    "ExecuteTime": {
     "end_time": "2024-08-02T00:28:07.344217Z",
     "start_time": "2024-08-02T00:28:07.340213Z"
    }
   },
   "outputs": [],
   "source": [
    "import numpy as np\n",
    "import pandas as pd"
   ]
  },
  {
   "cell_type": "markdown",
   "id": "6ae5935372b4d9c5",
   "metadata": {},
   "source": [
    "One-hot encoding anime sources and genres"
   ]
  },
  {
   "cell_type": "code",
   "execution_count": 2,
   "id": "cbcbd017-ff26-4555-85ca-7fc83c7e89c2",
   "metadata": {
    "ExecuteTime": {
     "end_time": "2024-08-02T00:28:07.551845Z",
     "start_time": "2024-08-02T00:28:07.384711Z"
    }
   },
   "outputs": [],
   "source": [
    "data_anime = pd.read_csv('Data/Animelist.csv')"
   ]
  },
  {
   "cell_type": "code",
   "execution_count": 3,
   "id": "9f48a831-3663-451e-9ed1-073bb3e8cec0",
   "metadata": {
    "ExecuteTime": {
     "end_time": "2024-08-02T00:28:07.560644Z",
     "start_time": "2024-08-02T00:28:07.552852Z"
    }
   },
   "outputs": [],
   "source": [
    "tv = data_anime[data_anime['type'] == 'TV']"
   ]
  },
  {
   "cell_type": "code",
   "execution_count": 4,
   "id": "ecfdf109-a129-43f0-938a-1da5b8b300df",
   "metadata": {
    "ExecuteTime": {
     "end_time": "2024-08-02T00:28:07.617282Z",
     "start_time": "2024-08-02T00:28:07.560644Z"
    }
   },
   "outputs": [
    {
     "ename": "TypeError",
     "evalue": "get_dummies() got an unexpected keyword argument 'prefix'",
     "output_type": "error",
     "traceback": [
      "\u001b[0;31m---------------------------------------------------------------------------\u001b[0m",
      "\u001b[0;31mTypeError\u001b[0m                                 Traceback (most recent call last)",
      "\u001b[0;32m/var/folders/rh/2ncm9ghj0xl__wqthx5qt4hw0000gn/T/ipykernel_36482/1016803738.py\u001b[0m in \u001b[0;36m<module>\u001b[0;34m\u001b[0m\n\u001b[0;32m----> 1\u001b[0;31m \u001b[0mgenres\u001b[0m \u001b[0;34m=\u001b[0m \u001b[0mtv\u001b[0m\u001b[0;34m[\u001b[0m\u001b[0;34m'genre'\u001b[0m\u001b[0;34m]\u001b[0m\u001b[0;34m.\u001b[0m\u001b[0mstr\u001b[0m\u001b[0;34m.\u001b[0m\u001b[0mget_dummies\u001b[0m\u001b[0;34m(\u001b[0m\u001b[0msep\u001b[0m\u001b[0;34m=\u001b[0m\u001b[0;34m', '\u001b[0m\u001b[0;34m,\u001b[0m \u001b[0mprefix\u001b[0m\u001b[0;34m=\u001b[0m\u001b[0;34m'genre'\u001b[0m\u001b[0;34m)\u001b[0m\u001b[0;34m\u001b[0m\u001b[0;34m\u001b[0m\u001b[0m\n\u001b[0m\u001b[1;32m      2\u001b[0m \u001b[0mgenre_encoded\u001b[0m \u001b[0;34m=\u001b[0m \u001b[0mpd\u001b[0m\u001b[0;34m.\u001b[0m\u001b[0mconcat\u001b[0m\u001b[0;34m(\u001b[0m\u001b[0;34m[\u001b[0m\u001b[0mtv\u001b[0m\u001b[0;34m,\u001b[0m \u001b[0mgenres\u001b[0m\u001b[0;34m]\u001b[0m\u001b[0;34m,\u001b[0m \u001b[0maxis\u001b[0m\u001b[0;34m=\u001b[0m\u001b[0;36m1\u001b[0m\u001b[0;34m)\u001b[0m\u001b[0;34m\u001b[0m\u001b[0;34m\u001b[0m\u001b[0m\n",
      "\u001b[0;32m/Library/Frameworks/Python.framework/Versions/3.9/lib/python3.9/site-packages/pandas/core/strings/accessor.py\u001b[0m in \u001b[0;36mwrapper\u001b[0;34m(self, *args, **kwargs)\u001b[0m\n\u001b[1;32m    123\u001b[0m                 )\n\u001b[1;32m    124\u001b[0m                 \u001b[0;32mraise\u001b[0m \u001b[0mTypeError\u001b[0m\u001b[0;34m(\u001b[0m\u001b[0mmsg\u001b[0m\u001b[0;34m)\u001b[0m\u001b[0;34m\u001b[0m\u001b[0;34m\u001b[0m\u001b[0m\n\u001b[0;32m--> 125\u001b[0;31m             \u001b[0;32mreturn\u001b[0m \u001b[0mfunc\u001b[0m\u001b[0;34m(\u001b[0m\u001b[0mself\u001b[0m\u001b[0;34m,\u001b[0m \u001b[0;34m*\u001b[0m\u001b[0margs\u001b[0m\u001b[0;34m,\u001b[0m \u001b[0;34m**\u001b[0m\u001b[0mkwargs\u001b[0m\u001b[0;34m)\u001b[0m\u001b[0;34m\u001b[0m\u001b[0;34m\u001b[0m\u001b[0m\n\u001b[0m\u001b[1;32m    126\u001b[0m \u001b[0;34m\u001b[0m\u001b[0m\n\u001b[1;32m    127\u001b[0m         \u001b[0mwrapper\u001b[0m\u001b[0;34m.\u001b[0m\u001b[0m__name__\u001b[0m \u001b[0;34m=\u001b[0m \u001b[0mfunc_name\u001b[0m\u001b[0;34m\u001b[0m\u001b[0;34m\u001b[0m\u001b[0m\n",
      "\u001b[0;31mTypeError\u001b[0m: get_dummies() got an unexpected keyword argument 'prefix'"
     ]
    }
   ],
   "source": [
    "genres = tv['genre'].str.get_dummies(sep=', ', prefix='genre')\n",
    "genre_encoded = pd.concat([tv, genres], axis=1)"
   ]
  },
  {
   "cell_type": "code",
   "execution_count": null,
   "id": "aef7dc86-9122-471d-8bb2-ffd1baff216f",
   "metadata": {
    "ExecuteTime": {
     "end_time": "2024-08-02T00:28:07.626730Z",
     "start_time": "2024-08-02T00:28:07.619226Z"
    }
   },
   "outputs": [],
   "source": [
    "source_encoded = pd.get_dummies(genre_encoded['source'], prefix='source').astype(int)\n",
    "data_filtered = pd.concat([genre_encoded, source_encoded], axis=1)"
   ]
  },
  {
   "cell_type": "code",
   "execution_count": null,
   "id": "30b08845-def0-4584-8647-aff7a887249a",
   "metadata": {
    "ExecuteTime": {
     "end_time": "2024-08-02T00:28:07.658588Z",
     "start_time": "2024-08-02T00:28:07.627737Z"
    }
   },
   "outputs": [],
   "source": [
    "pd.set_option('display.max_columns', None)\n",
    "data_filtered"
   ]
  },
  {
   "cell_type": "markdown",
   "id": "8646780dd2826dd2",
   "metadata": {},
   "source": [
    "Filtering users to preserve ones with a valid age and location"
   ]
  },
  {
   "cell_type": "code",
   "execution_count": null,
   "id": "9bb67dc6-a36b-4962-b222-cbad71ed23d7",
   "metadata": {
    "ExecuteTime": {
     "end_time": "2024-08-02T00:28:07.789681Z",
     "start_time": "2024-08-02T00:28:07.659104Z"
    }
   },
   "outputs": [],
   "source": [
    "data_filtered.to_csv('Data/animelist_filt.csv')"
   ]
  },
  {
   "cell_type": "code",
   "execution_count": null,
   "id": "f8fabfa8-562b-48d5-aeca-149d3e823fdb",
   "metadata": {
    "ExecuteTime": {
     "end_time": "2024-08-02T00:28:08.690665Z",
     "start_time": "2024-08-02T00:28:07.790507Z"
    }
   },
   "outputs": [],
   "source": [
    "users = pd.read_csv('Data/UserList.csv')\n",
    "users.dropna(subset = ['birth_date', 'location', 'gender'], inplace=True)\n",
    "users['birth_date'] = pd.to_datetime(users['birth_date'],errors='coerce')\n",
    "users['age'] = ((pd.to_datetime('2018-01-01') - users['birth_date'])/pd.Timedelta(days=365.25)).dropna().round()\n",
    "users = users[users['age'] > 12] # While there is no minimum age, its unlikely that kids will have their own anime lists"
   ]
  },
  {
   "cell_type": "code",
   "execution_count": null,
   "id": "a863d57d34a8b5de",
   "metadata": {
    "ExecuteTime": {
     "end_time": "2024-08-02T00:28:08.783415Z",
     "start_time": "2024-08-02T00:28:08.691672Z"
    }
   },
   "outputs": [],
   "source": [
    "cities = pd.read_csv('Data/worldcities.csv', usecols=['city','country','iso2','population'])\n",
    "# In cases when multiple cities share the same name, we keep the ones with higher population\n",
    "# Since the probability of being in Paris, France is more than 100 times higher than in Paris, Texas\n",
    "cities.dropna()\n",
    "cities = cities.sort_values(by='population', ascending=False)\n",
    "cities = cities.drop_duplicates(subset=['city'], keep='first')"
   ]
  },
  {
   "cell_type": "code",
   "execution_count": null,
   "id": "48ff9e254e33e3a",
   "metadata": {
    "ExecuteTime": {
     "end_time": "2024-08-02T00:28:08.815185Z",
     "start_time": "2024-08-02T00:28:08.784421Z"
    }
   },
   "outputs": [],
   "source": [
    "city_to_country = dict(zip(cities['city'].str.lower(), cities['country'].values.tolist()))\n",
    "country_abbr_to_country = dict(zip(cities['iso2'].str.upper(), cities['country']))\n",
    "def infer_country(location, city_to_country, country_abbr_to_country):\n",
    "    location = location.lower().strip()\n",
    "    \n",
    "    # Check for country name in the location string\n",
    "    for country in country_abbr_to_country.values():\n",
    "        if country.lower() in location:\n",
    "            return country\n",
    "    \n",
    "    # Check for country in iso format\n",
    "    if location.upper() in country_abbr_to_country:\n",
    "        return country_abbr_to_country[location.upper()]\n",
    "    \n",
    "     # Check for exact city match\n",
    "    if location in city_to_country:\n",
    "        return city_to_country[location]\n",
    "    \n",
    "    # If no match found\n",
    "    return 'Unknown'"
   ]
  },
  {
   "cell_type": "code",
   "execution_count": null,
   "id": "5cc1dad9cc9992fe",
   "metadata": {
    "ExecuteTime": {
     "end_time": "2024-08-02T00:28:10.123748Z",
     "start_time": "2024-08-02T00:28:08.817192Z"
    }
   },
   "outputs": [],
   "source": [
    "users['country'] = users['location'].apply(lambda loc: infer_country(loc, city_to_country, country_abbr_to_country))\n",
    "users = users[users['country'] != 'Unknown']"
   ]
  },
  {
   "cell_type": "code",
   "execution_count": null,
   "id": "fb234a834df0ff02",
   "metadata": {
    "ExecuteTime": {
     "end_time": "2024-08-02T00:28:10.679562Z",
     "start_time": "2024-08-02T00:28:10.124753Z"
    }
   },
   "outputs": [],
   "source": [
    "users.to_csv('Data/userlist_filt.csv')\n",
    "users"
   ]
  },
  {
   "cell_type": "markdown",
   "id": "460eaf6a5e404f76",
   "metadata": {},
   "source": [
    "Making sure to drop the lists of filtered users\n",
    "###### this code may take a few minutes to run"
   ]
  },
  {
   "cell_type": "code",
   "execution_count": null,
   "id": "259f1ba6e47c2908",
   "metadata": {
    "ExecuteTime": {
     "end_time": "2024-08-02T00:29:20.509041Z",
     "start_time": "2024-08-02T00:28:10.680571Z"
    }
   },
   "outputs": [],
   "source": [
    "unique_users = users['username'].unique()\n",
    "data_user_anime = pd.read_csv('Data/UserAnimeList.csv')\n",
    "data_user_anime_filtered = data_user_anime[data_user_anime['username'].isin(unique_users)]"
   ]
  },
  {
   "cell_type": "code",
   "execution_count": null,
   "id": "94417f046ba71f3",
   "metadata": {
    "ExecuteTime": {
     "end_time": "2024-08-02T00:30:16.027667Z",
     "start_time": "2024-08-02T00:29:20.515052Z"
    }
   },
   "outputs": [],
   "source": [
    "data_user_anime_filtered.to_csv('Data/userAnimeList_filt.csv')"
   ]
  }
 ],
 "metadata": {
  "kernelspec": {
   "display_name": "Python 3 (ipykernel)",
   "language": "python",
   "name": "python3"
  },
  "language_info": {
   "codemirror_mode": {
    "name": "ipython",
    "version": 3
   },
   "file_extension": ".py",
   "mimetype": "text/x-python",
   "name": "python",
   "nbconvert_exporter": "python",
   "pygments_lexer": "ipython3",
   "version": "3.9.7"
  }
 },
 "nbformat": 4,
 "nbformat_minor": 5
}

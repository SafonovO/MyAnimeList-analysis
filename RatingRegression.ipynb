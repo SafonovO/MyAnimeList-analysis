{
 "cells": [
  {
   "metadata": {},
   "cell_type": "markdown",
   "source": [
    "# This notebook will be an attempt to solve a business problem: Can a studio or publisher predict an approximate score their show will get based off the show's initial features?\n",
    "## We are going to use a robust xgboost regressor since it's an ensemble with decision trees which work well on categorical data"
   ],
   "id": "29d8ea68ffb262f2"
  },
  {
   "cell_type": "code",
   "id": "97f57014",
   "metadata": {
    "ExecuteTime": {
     "end_time": "2024-08-02T21:24:18.786589Z",
     "start_time": "2024-08-02T21:24:18.783244Z"
    }
   },
   "source": [
    "import pandas as pd\n",
    "from sklearn.model_selection import train_test_split\n",
    "from sklearn.linear_model import LinearRegression\n",
    "from sklearn.model_selection import cross_val_score\n",
    "from sklearn.model_selection import train_test_split\n",
    "import xgboost as xgb\n",
    "from sklearn.metrics import mean_squared_error"
   ],
   "outputs": [],
   "execution_count": 103
  },
  {
   "metadata": {},
   "cell_type": "markdown",
   "source": "Reading data",
   "id": "b2c36ec113099e76"
  },
  {
   "cell_type": "code",
   "id": "bbdb3a3e",
   "metadata": {
    "ExecuteTime": {
     "end_time": "2024-08-02T21:24:18.953469Z",
     "start_time": "2024-08-02T21:24:18.815746Z"
    }
   },
   "source": "data = pd.read_csv('Data/animelist_filt.csv')",
   "outputs": [],
   "execution_count": 104
  },
  {
   "metadata": {},
   "cell_type": "markdown",
   "source": "One-hot encoding additional features",
   "id": "9c225e6f65d96ced"
  },
  {
   "cell_type": "code",
   "id": "d3f671c9",
   "metadata": {
    "ExecuteTime": {
     "end_time": "2024-08-02T21:24:18.996486Z",
     "start_time": "2024-08-02T21:24:18.954394Z"
    }
   },
   "source": [
    "data['season'] = data['premiered'].str.extract(r'(\\w+)\\s\\d{4}')\n",
    "seasons = data['season'].str.get_dummies(sep=', ')\n",
    "seasons = seasons.add_prefix('season_')\n",
    "data = pd.concat([data, seasons], axis=1).drop('season', axis=1)\n",
    "prefixes = [\"genre_\", \"studio_\", \"season_\", \"source_\"]\n",
    "X = data[[col for col in data.columns if any(col.startswith(prefix) for prefix in prefixes) or col == 'episodes']] \n",
    "# Longer shows are proven to have higher mean ratings, so episode counts are crucial\n",
    "y = data['score']"
   ],
   "outputs": [],
   "execution_count": 105
  },
  {
   "metadata": {},
   "cell_type": "markdown",
   "source": "Splitting the data",
   "id": "580ce17f18f57555"
  },
  {
   "metadata": {
    "ExecuteTime": {
     "end_time": "2024-08-02T21:24:19.014612Z",
     "start_time": "2024-08-02T21:24:18.997496Z"
    }
   },
   "cell_type": "code",
   "source": "X_train, X_test, y_train, y_test = train_test_split(X, y, test_size=0.2, random_state=20)",
   "id": "2f9d495a00fc16f7",
   "outputs": [],
   "execution_count": 106
  },
  {
   "metadata": {},
   "cell_type": "markdown",
   "source": "Training the model and testing/Cross-validating it",
   "id": "555b2aa1a748d9d2"
  },
  {
   "metadata": {
    "ExecuteTime": {
     "end_time": "2024-08-02T21:24:22.209888Z",
     "start_time": "2024-08-02T21:24:19.015618Z"
    }
   },
   "cell_type": "code",
   "source": [
    "xg_reg = xgb.XGBRegressor(objective='reg:squarederror', colsample_bytree=0.7, learning_rate=0.1,\n",
    "                          max_depth=5, alpha=10, n_estimators=100)\n",
    "xg_reg.fit(X_train, y_train)\n",
    "y_pred = xg_reg.predict(X_test)\n",
    "print(f\"Accuracy: {xg_reg.score(X_test, y_test)}\")\n",
    "cv_scores = cross_val_score(xg_reg, X, y, cv=5, scoring='neg_mean_squared_error')\n",
    "mean_cv_score = -cv_scores.mean()\n",
    "std_cv_score = cv_scores.std()\n",
    "print(f\"Mean Cross-Validation Score: {mean_cv_score}\")\n",
    "print(f\"Cross-Validation deviation: {std_cv_score}\")"
   ],
   "id": "751fc26434c7dce9",
   "outputs": [
    {
     "name": "stdout",
     "output_type": "stream",
     "text": [
      "Accuracy: 0.7214451914723337\n",
      "Mean Cross-Validation Score: 0.7369025099704366\n",
      "Cross-Validation deviation: 0.15534254298301092\n"
     ]
    }
   ],
   "execution_count": 107
  },
  {
   "metadata": {},
   "cell_type": "markdown",
   "source": [
    "An accuracy of 72% and cross-validation score of almost 74% show that the model can perform approximate ratings with a margin of error around +- 0.15 of the score\n",
    "\n",
    "Given the amount of data, the model performs relatively well, although having additional information from the publisher could help improve the scores further"
   ],
   "id": "bb717c90f6af0296"
  },
  {
   "metadata": {},
   "cell_type": "markdown",
   "source": "After trying out different amounts of features, the chosen subset of [genre, studio, release season, material source, episode count] performs the best",
   "id": "8ce50b940b6d2bfb"
  },
  {
   "metadata": {},
   "cell_type": "markdown",
   "source": "Saving the model (xgboost package can take a while to download, so we are saving the model for use without training)",
   "id": "5173a7a50c05373"
  },
  {
   "metadata": {
    "ExecuteTime": {
     "end_time": "2024-08-02T21:24:22.219219Z",
     "start_time": "2024-08-02T21:24:22.210894Z"
    }
   },
   "cell_type": "code",
   "source": "xg_reg.save_model('xgboost_model.ubj')",
   "id": "58015b44832d0b32",
   "outputs": [],
   "execution_count": 108
  },
  {
   "metadata": {
    "ExecuteTime": {
     "end_time": "2024-08-02T21:24:22.341967Z",
     "start_time": "2024-08-02T21:24:22.220225Z"
    }
   },
   "cell_type": "code",
   "source": [
    "loaded = xgb.XGBRegressor()\n",
    "loaded.load_model('xgboost_model.ubj')\n",
    "print(f\"Accuracy: {xg_reg.score(X_test, y_test)}\")"
   ],
   "id": "a8748e936f62ff5b",
   "outputs": [
    {
     "name": "stdout",
     "output_type": "stream",
     "text": [
      "Accuracy: 0.7214451914723337\n"
     ]
    }
   ],
   "execution_count": 109
  },
  {
   "metadata": {
    "ExecuteTime": {
     "end_time": "2024-08-02T21:24:22.345317Z",
     "start_time": "2024-08-02T21:24:22.342828Z"
    }
   },
   "cell_type": "code",
   "source": "",
   "id": "d5ad95f06fcf5362",
   "outputs": [],
   "execution_count": 109
  }
 ],
 "metadata": {
  "kernelspec": {
   "display_name": "Python 3 (ipykernel)",
   "language": "python",
   "name": "python3"
  },
  "language_info": {
   "codemirror_mode": {
    "name": "ipython",
    "version": 3
   },
   "file_extension": ".py",
   "mimetype": "text/x-python",
   "name": "python",
   "nbconvert_exporter": "python",
   "pygments_lexer": "ipython3",
   "version": "3.9.7"
  }
 },
 "nbformat": 4,
 "nbformat_minor": 5
}

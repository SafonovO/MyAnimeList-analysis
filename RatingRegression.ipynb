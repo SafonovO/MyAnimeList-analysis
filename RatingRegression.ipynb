{
 "cells": [
  {
   "cell_type": "code",
   "execution_count": 1,
   "id": "97f57014",
   "metadata": {},
   "outputs": [],
   "source": [
    "import numpy as np\n",
    "import pandas as pd\n",
    "import matplotlib.pyplot as plt\n",
    "\n",
    "from sklearn.model_selection import train_test_split\n",
    "from sklearn.pipeline import Pipeline\n",
    "\n",
    "from sklearn.preprocessing import FunctionTransformer\n",
    "\n",
    "from sklearn.linear_model import LinearRegression\n",
    "\n",
    "import sys\n"
   ]
  },
  {
   "cell_type": "code",
   "execution_count": 2,
   "id": "bbdb3a3e",
   "metadata": {},
   "outputs": [],
   "source": [
    "data = pd.read_csv('Data/animelist_filt.csv')"
   ]
  },
  {
   "cell_type": "code",
   "execution_count": 16,
   "id": "d3f671c9",
   "metadata": {},
   "outputs": [],
   "source": [
    "pd.set_option('display.max_columns', None)\n",
    "\n",
    "genres = data[data.columns[pd.Series(data.columns).str.startswith('genre_')]]\n",
    "\n",
    "studios = data[data.columns[pd.Series(data.columns).str.startswith('studio_')]]\n",
    "\n",
    "sources = data[data.columns[pd.Series(data.columns).str.startswith('source_')]]\n",
    "\n",
    "y = data['score']"
   ]
  },
  {
   "cell_type": "code",
   "execution_count": 17,
   "id": "db625e88",
   "metadata": {},
   "outputs": [],
   "source": [
    "X = pd.concat([genres, studios,sources], axis=1)\n"
   ]
  },
  {
   "cell_type": "code",
   "execution_count": 18,
   "id": "f27b3869",
   "metadata": {},
   "outputs": [],
   "source": [
    "X_train, X_val, y_train, y_val = train_test_split(X,y)\n"
   ]
  },
  {
   "cell_type": "code",
   "execution_count": 22,
   "id": "68da6024",
   "metadata": {},
   "outputs": [],
   "source": [
    "reg = LinearRegression().fit(X_train, y_train)\n"
   ]
  },
  {
   "cell_type": "code",
   "execution_count": 23,
   "id": "daaf8410",
   "metadata": {},
   "outputs": [
    {
     "name": "stdout",
     "output_type": "stream",
     "text": [
      "-1.0790851588173112e+22\n"
     ]
    }
   ],
   "source": [
    "print(reg.score(X_val,y_val))\n"
   ]
  },
  {
   "cell_type": "code",
   "execution_count": null,
   "id": "eddb946a",
   "metadata": {},
   "outputs": [],
   "source": []
  }
 ],
 "metadata": {
  "kernelspec": {
   "display_name": "Python 3 (ipykernel)",
   "language": "python",
   "name": "python3"
  },
  "language_info": {
   "codemirror_mode": {
    "name": "ipython",
    "version": 3
   },
   "file_extension": ".py",
   "mimetype": "text/x-python",
   "name": "python",
   "nbconvert_exporter": "python",
   "pygments_lexer": "ipython3",
   "version": "3.9.7"
  }
 },
 "nbformat": 4,
 "nbformat_minor": 5
}

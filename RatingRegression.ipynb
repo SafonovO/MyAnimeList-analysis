{
 "cells": [
  {
   "metadata": {},
   "cell_type": "markdown",
   "source": [
    "# This notebook will be an attempt to solve a business problem: Can a studio or publisher predict an approximate score their show will get based off the show's initial features?\n",
    "## We are going to use a robust xgboost regressor since it's an ensemble with decision trees which work well on categorical data"
   ],
   "id": "29d8ea68ffb262f2"
  },
  {
   "cell_type": "code",
   "id": "97f57014",
   "metadata": {
    "ExecuteTime": {
     "end_time": "2024-08-04T06:45:28.724215Z",
     "start_time": "2024-08-04T06:45:28.720090Z"
    }
   },
   "source": [
    "import pandas as pd\n",
    "from sklearn.model_selection import cross_val_score\n",
    "from sklearn.model_selection import train_test_split\n",
    "import xgboost as xgb"
   ],
   "outputs": [],
   "execution_count": 20
  },
  {
   "metadata": {},
   "cell_type": "markdown",
   "source": "Reading data",
   "id": "b2c36ec113099e76"
  },
  {
   "cell_type": "code",
   "id": "bbdb3a3e",
   "metadata": {
    "ExecuteTime": {
     "end_time": "2024-08-04T06:45:28.939086Z",
     "start_time": "2024-08-04T06:45:28.762632Z"
    }
   },
   "source": "data = pd.read_csv('Data/animelist_filt.csv')",
   "outputs": [],
   "execution_count": 21
  },
  {
   "metadata": {},
   "cell_type": "markdown",
   "source": "One-hot encoding additional features",
   "id": "9c225e6f65d96ced"
  },
  {
   "cell_type": "code",
   "id": "d3f671c9",
   "metadata": {
    "ExecuteTime": {
     "end_time": "2024-08-04T06:45:29.079688Z",
     "start_time": "2024-08-04T06:45:28.940092Z"
    }
   },
   "source": [
    "data['season'] = data['premiered'].str.extract(r'(\\w+)\\s\\d{4}')\n",
    "seasons = data['season'].str.get_dummies(sep=', ')\n",
    "seasons = seasons.add_prefix('season_')\n",
    "data = pd.concat([data, seasons], axis=1).drop('season', axis=1)\n",
    "prefixes = [\"genre_\", \"studio_\", \"season_\", \"source_\"]\n",
    "X = data[[col for col in data.columns if any(col.startswith(prefix) for prefix in prefixes) or col == 'episodes']] \n",
    "# Longer shows are proven to have higher mean ratings, so episode counts are crucial\n",
    "y = data['score']"
   ],
   "outputs": [],
   "execution_count": 22
  },
  {
   "metadata": {},
   "cell_type": "markdown",
   "source": "Splitting the data",
   "id": "580ce17f18f57555"
  },
  {
   "metadata": {
    "ExecuteTime": {
     "end_time": "2024-08-04T06:45:29.100381Z",
     "start_time": "2024-08-04T06:45:29.080694Z"
    }
   },
   "cell_type": "code",
   "source": "X_train, X_test, y_train, y_test = train_test_split(X, y, test_size=0.2, random_state=20)",
   "id": "2f9d495a00fc16f7",
   "outputs": [],
   "execution_count": 23
  },
  {
   "metadata": {},
   "cell_type": "markdown",
   "source": "Training the model and testing/Cross-validating it",
   "id": "555b2aa1a748d9d2"
  },
  {
   "metadata": {
    "ExecuteTime": {
     "end_time": "2024-08-04T06:45:32.120123Z",
     "start_time": "2024-08-04T06:45:29.101900Z"
    }
   },
   "cell_type": "code",
   "source": [
    "xg_reg = xgb.XGBRegressor(objective='reg:squarederror', colsample_bytree=0.7, learning_rate=0.1,\n",
    "                          max_depth=5, alpha=10, n_estimators=100)\n",
    "xg_reg.fit(X_train, y_train)\n",
    "y_pred = xg_reg.predict(X_test)\n",
    "print(f\"Accuracy: {xg_reg.score(X_test, y_test)}\")\n",
    "cv_scores = cross_val_score(xg_reg, X, y, cv=5, scoring='neg_mean_squared_error')\n",
    "mean_cv_score = -cv_scores.mean()\n",
    "std_cv_score = cv_scores.std()\n",
    "print(f\"Mean Cross-Validation Score: {mean_cv_score}\")\n",
    "print(f\"Cross-Validation deviation: {std_cv_score}\")"
   ],
   "id": "751fc26434c7dce9",
   "outputs": [
    {
     "name": "stdout",
     "output_type": "stream",
     "text": [
      "Accuracy: 0.7214451914723337\n",
      "Mean Cross-Validation Score: 0.7369025099704366\n",
      "Cross-Validation deviation: 0.15534254298301092\n"
     ]
    }
   ],
   "execution_count": 24
  },
  {
   "metadata": {},
   "cell_type": "markdown",
   "source": [
    "An accuracy of 72% and cross-validation score of almost 74% show that the model can perform approximate ratings with a margin of error around +- 0.15 of the score\n",
    "\n",
    "Given the amount of data, the model performs relatively well, although having additional information from the publisher could help improve the scores further"
   ],
   "id": "bb717c90f6af0296"
  },
  {
   "metadata": {},
   "cell_type": "markdown",
   "source": "After trying out different amounts of features, the chosen subset of [genre, studio, release season, material source, episode count] performs the best",
   "id": "8ce50b940b6d2bfb"
  },
  {
   "metadata": {},
   "cell_type": "markdown",
   "source": "Saving the model (xgboost package can take a while to download, so we are saving the model for use without training)",
   "id": "5173a7a50c05373"
  },
  {
   "metadata": {
    "ExecuteTime": {
     "end_time": "2024-08-04T06:45:32.128953Z",
     "start_time": "2024-08-04T06:45:32.121131Z"
    }
   },
   "cell_type": "code",
   "source": "xg_reg.save_model('xgboost_model.ubj')",
   "id": "58015b44832d0b32",
   "outputs": [],
   "execution_count": 25
  },
  {
   "metadata": {},
   "cell_type": "markdown",
   "source": "Testing on the provided sample",
   "id": "3cf592e1b4c889bf"
  },
  {
   "metadata": {
    "ExecuteTime": {
     "end_time": "2024-08-04T06:45:32.147715Z",
     "start_time": "2024-08-04T06:45:32.129963Z"
    }
   },
   "cell_type": "code",
   "source": [
    "loaded = xgb.XGBRegressor()\n",
    "loaded.load_model('xgboost_model.ubj')"
   ],
   "id": "a8748e936f62ff5b",
   "outputs": [],
   "execution_count": 26
  },
  {
   "metadata": {
    "ExecuteTime": {
     "end_time": "2024-08-04T06:45:32.253624Z",
     "start_time": "2024-08-04T06:45:32.148724Z"
    }
   },
   "cell_type": "code",
   "source": [
    "sample = pd.read_csv('animelist_sample.csv')\n",
    "sample['season'] = sample['premiered'].str.extract(r'(\\w+)\\s\\d{4}')\n",
    "seasons = sample['season'].str.get_dummies(sep=', ')\n",
    "seasons = seasons.add_prefix('season_')\n",
    "sample = pd.concat([sample, seasons], axis=1).drop('season', axis=1)\n",
    "prefixes = [\"genre_\", \"studio_\", \"season_\", \"source_\"]\n",
    "X = sample[[col for col in sample.columns if any(col.startswith(prefix) for prefix in prefixes) or col == 'episodes']] \n",
    "# Longer shows are proven to have higher mean ratings, so episode counts are crucial\n",
    "y = sample['score']\n",
    "print(f\"Accuracy: {loaded.predict(X),y.values}\")"
   ],
   "id": "d5ad95f06fcf5362",
   "outputs": [
    {
     "name": "stdout",
     "output_type": "stream",
     "text": [
      "Accuracy: (array([7.271096 , 7.517318 , 7.270844 , 7.202426 , 7.8390884],\n",
      "      dtype=float32), array([7.63, 7.89, 7.55, 8.21, 8.67]))\n"
     ]
    }
   ],
   "execution_count": 27
  },
  {
   "metadata": {
    "ExecuteTime": {
     "end_time": "2024-08-04T06:45:32.256776Z",
     "start_time": "2024-08-04T06:45:32.254630Z"
    }
   },
   "cell_type": "code",
   "source": "",
   "id": "696b789e3bb73737",
   "outputs": [],
   "execution_count": 27
  }
 ],
 "metadata": {
  "kernelspec": {
   "display_name": "Python 3 (ipykernel)",
   "language": "python",
   "name": "python3"
  },
  "language_info": {
   "codemirror_mode": {
    "name": "ipython",
    "version": 3
   },
   "file_extension": ".py",
   "mimetype": "text/x-python",
   "name": "python",
   "nbconvert_exporter": "python",
   "pygments_lexer": "ipython3",
   "version": "3.9.7"
  }
 },
 "nbformat": 4,
 "nbformat_minor": 5
}
